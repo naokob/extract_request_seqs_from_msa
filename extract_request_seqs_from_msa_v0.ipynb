{
  "nbformat": 4,
  "nbformat_minor": 0,
  "metadata": {
    "colab": {
      "name": "extract_request_seqs_from_msa_v0.ipynb",
      "provenance": [],
      "collapsed_sections": []
    },
    "kernelspec": {
      "name": "python3",
      "display_name": "Python 3"
    },
    "language_info": {
      "name": "python"
    }
  },
  "cells": [
    {
      "cell_type": "code",
      "execution_count": null,
      "metadata": {
        "id": "W72t0e3dBTGr",
        "cellView": "form"
      },
      "outputs": [],
      "source": [
        "#@title ###**0. Install software.**\n",
        "#@markdown Please run this cell by pressing the ▶ _Play_ button on the left.\n",
        "\n",
        "#@markdown Biopython will be installed.\n",
        "!pip install biopython > /dev/null\n",
        "print(\"Done!\")"
      ]
    },
    {
      "cell_type": "code",
      "source": [
        "from Bio import AlignIO\n",
        "import pandas as pd\n",
        "import os\n",
        "import sys\n",
        "import argparse\n",
        "from google.colab import files\n",
        "\n",
        "#@title ###**1. Input a MSA file and a requirement file.**\n",
        "#@markdown #####1.1 Upload the MSA and requirement files from \"Files\" -> \"Upload to session storage\" on the left.\n",
        "#@markdown #####1.2 Enter the following fields.\n",
        "def get_msa(msa_filename=\"\"):\n",
        "    if msa_filename is None or msa_filename == \"\":\n",
        "        print(\"Select your MSA file!\")\n",
        "        upload_dict = files.upload()\n",
        "        msa_filename_string = upload_dict[list(upload_dict.keys())[0]]\n",
        "        with open(\"tmp.fasta\",\"wb\") as out: out.write(msa_filename_string)\n",
        "        return \"tmp.fasta\"\n",
        "    else:\n",
        "        return msa_filename\n",
        "def get_requirement(requirement_filename=\"\"):\n",
        "    if requirement_filename is None or requirement_filename == \"\":\n",
        "        print(\"Select your requirement file!\")\n",
        "        upload_dict = files.upload()\n",
        "        requirement_filename_string = upload_dict[list(upload_dict.keys())[0]]\n",
        "        with open(\"tmp.csv\",\"wb\") as out: out.write(requirement_filename_string)\n",
        "        return \"tmp.csv\"\n",
        "    else:\n",
        "        return requirement_filename\n",
        "input_fasta = \"\" #@param {type:\"string\"}\n",
        "in_fasta = get_msa(input_fasta)\n",
        "requirement_file = \"\" #@param {type:\"string\"}\n",
        "in_request = get_requirement(requirement_file)\n",
        "#@markdown - **<font color=\"#4682b4\">To input MSA file and requirements file on your local PC, run the cell without writing anything in these field and then select the file.</font>**\n",
        "#@markdown - `input_fasta` Enter the MSA file name. ( e.g. hoge.fasta ) \n",
        "#@markdown - `requirements` Enter the requirements file name. ( e.g. hoge.csv ) \n",
        "#@markdown - In the csv file, enter `request_name` in the first column and the residue number and the one-letter code of amino acid residue in the second and subsequent columns.　(e.g. request1,43Y,51P,92V,94Y,105F)\n",
        "df = pd.read_csv(in_request, header=None, index_col=0)\n",
        "df\n",
        "#@markdown #####1.3 then, press the ▶ _Play_ button on the left.\n"
      ],
      "metadata": {
        "id": "ZlTCe8LICdeN",
        "cellView": "form"
      },
      "execution_count": null,
      "outputs": []
    },
    {
      "cell_type": "code",
      "source": [
        "#@title ###**2. Extract sequences from the MSA based on the specified requirements.**\n",
        "\n",
        "#@markdown ###2.1 Enter the following fields.\n",
        "\n",
        "request_name=\"request1\" #@param {type:\"string\"}\n",
        "#@markdown - `request_name` Enter your request name in the csv file. ( e.g. request1 ) \n",
        "output_prefix=\"result\" #@param {type:\"string\"}\n",
        "#@markdown - `output_prefix` The result will be saved as <font color=\"#4682b4\">**\\<output_prefix\\>_\\<request_name\\>.fasta**</font> in \"Files\" on the left.  ( e.g. result_request1.fasta ) \n",
        "\n",
        "#@markdown ###2.2 Run this cell by pressing the ▶ _Play_ button on the left.\n",
        "aln = AlignIO.read(open(in_fasta), \"fasta\")\n",
        "with open(f\"{output_prefix}_{request_name}.fasta\", \"w\") as f:\n",
        "    for aln_num in range(len(aln)):\n",
        "        pre_judge=True\n",
        "        for variant in df.loc[request_name].dropna().to_list():\n",
        "            if pre_judge and variant[-1] == aln[aln_num].seq[int(variant[:-1])-1]:\n",
        "                pre_judge=True\n",
        "            else:\n",
        "                pre_judge=False\n",
        "        if pre_judge == True:\n",
        "            seq_id=aln[aln_num].id\n",
        "            seq=aln[aln_num].seq\n",
        "            print(f'>{seq_id}\\n{seq}')\n",
        "            f.write(f'>{seq_id}\\n{seq}\\n')"
      ],
      "metadata": {
        "id": "pfyH-U4zO4H4",
        "cellView": "form"
      },
      "execution_count": null,
      "outputs": []
    }
  ]
}